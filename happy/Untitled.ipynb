{
 "cells": [
  {
   "cell_type": "code",
   "execution_count": 7,
   "id": "a210d64a-3913-485e-b8cd-7a9e0a48cdda",
   "metadata": {},
   "outputs": [
    {
     "name": "stdout",
     "output_type": "stream",
     "text": [
      "['/srv/conda/envs/notebook/lib/python39.zip', '/srv/conda/envs/notebook/lib/python3.9', '/srv/conda/envs/notebook/lib/python3.9/lib-dynload', '', '/srv/conda/envs/notebook/lib/python3.9/site-packages', '/home/jovyan/happy']\n"
     ]
    }
   ],
   "source": [
    "import sys\n",
    "print(sys.path)"
   ]
  },
  {
   "cell_type": "code",
   "execution_count": 8,
   "id": "b35bc0e7-0059-4779-b96a-96965fc84ab2",
   "metadata": {},
   "outputs": [],
   "source": [
    "import sys\n",
    "import os"
   ]
  },
  {
   "cell_type": "code",
   "execution_count": 9,
   "id": "5a2b89ff-e1d3-494b-8726-a0955ef80ba2",
   "metadata": {},
   "outputs": [],
   "source": [
    "sys.path.append('/home/jovyan/happy')"
   ]
  },
  {
   "cell_type": "code",
   "execution_count": 10,
   "id": "768f68a4-ede6-4505-8616-5a3f13a035c0",
   "metadata": {},
   "outputs": [
    {
     "name": "stdout",
     "output_type": "stream",
     "text": [
      "Import error: No module named 'happy'\n"
     ]
    }
   ],
   "source": [
    "try:\n",
    "    from happy.data.transforms.collaters import collater\n",
    "    print(\"Import successful\")\n",
    "except ImportError as e:\n",
    "    print(f\"Import error: {e}\")"
   ]
  },
  {
   "cell_type": "code",
   "execution_count": null,
   "id": "2744282f-0143-4b8f-b1e9-08e7a2d758e8",
   "metadata": {},
   "outputs": [],
   "source": []
  },
  {
   "cell_type": "code",
   "execution_count": null,
   "id": "9411aabd-51c1-4228-a7e4-4ba22da3a42e",
   "metadata": {},
   "outputs": [],
   "source": []
  },
  {
   "cell_type": "code",
   "execution_count": null,
   "id": "569c9b3a-c5af-4a5b-b7cc-c35520e952c6",
   "metadata": {},
   "outputs": [],
   "source": []
  }
 ],
 "metadata": {
  "kernelspec": {
   "display_name": "Python 3 (ipykernel)",
   "language": "python",
   "name": "python3"
  },
  "language_info": {
   "codemirror_mode": {
    "name": "ipython",
    "version": 3
   },
   "file_extension": ".py",
   "mimetype": "text/x-python",
   "name": "python",
   "nbconvert_exporter": "python",
   "pygments_lexer": "ipython3",
   "version": "3.9.19"
  }
 },
 "nbformat": 4,
 "nbformat_minor": 5
}
